{
  "nbformat": 4,
  "nbformat_minor": 0,
  "metadata": {
    "colab": {
      "provenance": []
    },
    "kernelspec": {
      "name": "python3",
      "display_name": "Python 3"
    },
    "language_info": {
      "name": "python"
    }
  },
  "cells": [
    {
      "cell_type": "code",
      "execution_count": 2,
      "metadata": {
        "id": "0BSFTp1ohHSx"
      },
      "outputs": [],
      "source": [
        "# Step 2: Load the Excel file\n",
        "import pandas as pd\n",
        "\n",
        "# Replace this with your actual file name if different\n",
        "file_name = 'Amazon Sale Report.xlsx'\n",
        "df = pd.read_excel(file_name, sheet_name='Amazon Sale Report')\n",
        "\n",
        "# Step 3: Drop unnecessary columns\n",
        "columns_to_drop = ['index', 'Unnamed: 22', 'promotion-ids', 'fulfilled-by']\n",
        "df.drop(columns=columns_to_drop, inplace=True, errors='ignore')\n"
      ]
    },
    {
      "cell_type": "code",
      "source": [
        "# Step 4: Filter rows (remove Cancelled & nulls in Amount or Qty)\n",
        "df = df.dropna(subset=['Amount', 'Qty'])\n",
        "\n",
        "# Keep only shipped/delivered orders\n",
        "df = df[df['Status'].str.contains('Shipped|Delivered', case=False, na=False)]\n"
      ],
      "metadata": {
        "id": "fysWDst4h9hM"
      },
      "execution_count": 4,
      "outputs": []
    },
    {
      "cell_type": "code",
      "source": [
        "# Step 5: Convert Date and create new features\n",
        "df['Date'] = pd.to_datetime(df['Date'], errors='coerce')\n",
        "df = df.dropna(subset=['Date'])  # Remove rows with invalid dates\n",
        "\n",
        "df['Total Sales'] = df['Qty'] * df['Amount']\n",
        "df['Year'] = df['Date'].dt.year\n",
        "df['Month'] = df['Date'].dt.month\n",
        "df['Month-Year'] = df['Date'].dt.to_period('M').astype(str)\n"
      ],
      "metadata": {
        "id": "gPpq6FV0iLjy"
      },
      "execution_count": 5,
      "outputs": []
    },
    {
      "cell_type": "code",
      "source": [
        "# Step 6: Export to CSV for Power BI\n",
        "output_file = 'amazon_cleaned.csv'\n",
        "df.to_csv(output_file, index=False)\n",
        "files.download(output_file)"
      ],
      "metadata": {
        "colab": {
          "base_uri": "https://localhost:8080/",
          "height": 176
        },
        "id": "L3pgcoYdiXVB",
        "outputId": "f946c97c-fb3c-4efb-f2e2-365852a81db1"
      },
      "execution_count": 6,
      "outputs": [
        {
          "output_type": "error",
          "ename": "NameError",
          "evalue": "name 'files' is not defined",
          "traceback": [
            "\u001b[0;31m---------------------------------------------------------------------------\u001b[0m",
            "\u001b[0;31mNameError\u001b[0m                                 Traceback (most recent call last)",
            "\u001b[0;32m/tmp/ipython-input-2882376641.py\u001b[0m in \u001b[0;36m<cell line: 0>\u001b[0;34m()\u001b[0m\n\u001b[1;32m      2\u001b[0m \u001b[0moutput_file\u001b[0m \u001b[0;34m=\u001b[0m \u001b[0;34m'amazon_cleaned.csv'\u001b[0m\u001b[0;34m\u001b[0m\u001b[0;34m\u001b[0m\u001b[0m\n\u001b[1;32m      3\u001b[0m \u001b[0mdf\u001b[0m\u001b[0;34m.\u001b[0m\u001b[0mto_csv\u001b[0m\u001b[0;34m(\u001b[0m\u001b[0moutput_file\u001b[0m\u001b[0;34m,\u001b[0m \u001b[0mindex\u001b[0m\u001b[0;34m=\u001b[0m\u001b[0;32mFalse\u001b[0m\u001b[0;34m)\u001b[0m\u001b[0;34m\u001b[0m\u001b[0;34m\u001b[0m\u001b[0m\n\u001b[0;32m----> 4\u001b[0;31m \u001b[0mfiles\u001b[0m\u001b[0;34m.\u001b[0m\u001b[0mdownload\u001b[0m\u001b[0;34m(\u001b[0m\u001b[0moutput_file\u001b[0m\u001b[0;34m)\u001b[0m\u001b[0;34m\u001b[0m\u001b[0;34m\u001b[0m\u001b[0m\n\u001b[0m",
            "\u001b[0;31mNameError\u001b[0m: name 'files' is not defined"
          ]
        }
      ]
    }
  ]
}